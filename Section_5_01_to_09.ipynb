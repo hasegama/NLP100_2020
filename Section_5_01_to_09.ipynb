{
 "cells": [
  {
   "cell_type": "code",
   "execution_count": 1,
   "metadata": {},
   "outputs": [],
   "source": [
    "def flatten(outer_list):\n",
    "    return [el for inner_list in outer_list for el in inner_list]\n",
    "        "
   ]
  },
  {
   "cell_type": "markdown",
   "metadata": {},
   "source": [
    "## 第5章: 係り受け解析  \n",
    "夏目漱石の小説『吾輩は猫である』の文章（neko.txt）をCaboChaを使って係り受け解析し，その結果をneko.txt.cabochaというファイルに保存せよ．このファイルを用いて，以下の問に対応するプログラムを実装せよ．"
   ]
  },
  {
   "cell_type": "code",
   "execution_count": 2,
   "metadata": {},
   "outputs": [],
   "source": [
    "path=\"./Section_5/neko.txt.cabocha\""
   ]
  },
  {
   "cell_type": "code",
   "execution_count": 3,
   "metadata": {},
   "outputs": [
    {
     "name": "stdout",
     "output_type": "stream",
     "text": [
      "/bin/sh: NLP/Section_5/neko.txt.cabocha: No such file or directory\r\n",
      "cat: NLP/Section_5/neko.txt: No such file or directory\r\n"
     ]
    }
   ],
   "source": [
    "!cat NLP/Section_5/neko.txt | cabocha -f1 > NLP/Section_5/neko.txt.cabocha"
   ]
  },
  {
   "cell_type": "code",
   "execution_count": 4,
   "metadata": {},
   "outputs": [
    {
     "name": "stdout",
     "output_type": "stream",
     "text": [
      "* 0 -1D 0/0 0.000000\r\n",
      "一\t名詞,数,*,*,*,*,一,イチ,イチ\r\n",
      "EOS\r\n",
      "EOS\r\n",
      "* 0 2D 0/0 -0.764522\r\n",
      "　\t記号,空白,*,*,*,*,　,　,　\r\n",
      "* 1 2D 0/1 -0.764522\r\n",
      "吾輩\t名詞,代名詞,一般,*,*,*,吾輩,ワガハイ,ワガハイ\r\n",
      "は\t助詞,係助詞,*,*,*,*,は,ハ,ワ\r\n",
      "* 2 -1D 0/2 0.000000\r\n",
      "猫\t名詞,一般,*,*,*,*,猫,ネコ,ネコ\r\n",
      "で\t助動詞,*,*,*,特殊・ダ,連用形,だ,デ,デ\r\n",
      "ある\t助動詞,*,*,*,五段・ラ行アル,基本形,ある,アル,アル\r\n",
      "。\t記号,句点,*,*,*,*,。,。,。\r\n",
      "EOS\r\n"
     ]
    }
   ],
   "source": [
    "!head -n 15 $path"
   ]
  },
  {
   "cell_type": "markdown",
   "metadata": {},
   "source": [
    "40. 係り受け解析結果の読み込み（形態素）  \n",
    "形態素を表すクラスMorphを実装せよ．このクラスは表層形（surface），基本形（base），品詞（pos），品詞細分類1（pos1）をメンバ変数に持つこととする．さらに，CaboChaの解析結果（neko.txt.cabocha）を読み込み，各文をMorphオブジェクトのリストとして表現し，3文目の形態素列を表示せよ．"
   ]
  },
  {
   "cell_type": "code",
   "execution_count": 5,
   "metadata": {},
   "outputs": [],
   "source": [
    "class Morph:\n",
    "    def __init__(self, dc):\n",
    "        self.surface = dc['surface']\n",
    "        self.base = dc['base']\n",
    "        self.pos = dc['pos']\n",
    "        self.pos1 = dc['pos1']"
   ]
  },
  {
   "cell_type": "code",
   "execution_count": 6,
   "metadata": {},
   "outputs": [],
   "source": [
    "# 形態素Morphのリスト（一文）\n",
    "def parseCabocha(block):\n",
    "    res = []\n",
    "    for line in block.split('\\n'):\n",
    "        if line == '':\n",
    "            return res\n",
    "        elif line[0] == '*':\n",
    "            continue\n",
    "        (surface, attr) = line.split('\\t')\n",
    "        attr = attr.split(',')\n",
    "        lineDict = {\n",
    "            'surface': surface,\n",
    "            'base': attr[6],\n",
    "            'pos': attr[0],\n",
    "            'pos1': attr[1]\n",
    "        }\n",
    "        res.append(Morph(lineDict))"
   ]
  },
  {
   "cell_type": "code",
   "execution_count": 7,
   "metadata": {
    "scrolled": true
   },
   "outputs": [
    {
     "name": "stdout",
     "output_type": "stream",
     "text": [
      "{'surface': '名前', 'base': '名前', 'pos': '名詞', 'pos1': '一般'}\n",
      "{'surface': 'は', 'base': 'は', 'pos': '助詞', 'pos1': '係助詞'}\n",
      "{'surface': 'まだ', 'base': 'まだ', 'pos': '副詞', 'pos1': '助詞類接続'}\n",
      "{'surface': '無い', 'base': '無い', 'pos': '形容詞', 'pos1': '自立'}\n",
      "{'surface': '。', 'base': '。', 'pos': '記号', 'pos1': '句点'}\n"
     ]
    }
   ],
   "source": [
    "# blockList:文のリスト\n",
    "with open(path, mode='rt', encoding='utf-8') as f:\n",
    "    blockList = f.read().split('EOS\\n')\n",
    "    \n",
    "# .split('EOS\\n')により\"\"要素がリストに含まれてしまうので除外\n",
    "blockList = list(filter(lambda x: x != '', blockList))# [x for x in blockList if x != \"\"]\n",
    "\n",
    "# parseCabocha(block) 形態素の辞書のリスト\n",
    "blockList = [parseCabocha(block) for block in blockList]\n",
    "for m in blockList[2]:\n",
    "    print(vars(m))"
   ]
  },
  {
   "cell_type": "code",
   "execution_count": null,
   "metadata": {},
   "outputs": [],
   "source": []
  },
  {
   "cell_type": "markdown",
   "metadata": {},
   "source": [
    "41. 係り受け解析結果の読み込み（文節・係り受け）  \n",
    "40に加えて，文節を表すクラスChunkを実装せよ．このクラスは形態素（Morphオブジェクト）のリスト（morphs），係り先文節インデックス番号（dst），係り元文節インデックス番号のリスト（srcs）をメンバ変数に持つこととする．さらに，入力テキストのCaboChaの解析結果を読み込み，１文をChunkオブジェクトのリストとして表現し，8文目の文節の文字列と係り先を表示せよ．第5章の残りの問題では，ここで作ったプログラムを活用せよ．"
   ]
  },
  {
   "cell_type": "code",
   "execution_count": 8,
   "metadata": {},
   "outputs": [],
   "source": [
    "class Chunk:\n",
    "    def __init__(self, morphs, dst):\n",
    "        self.morphs = morphs    # 形態素（Morphオブジェクト）のリスト\n",
    "        self.dst = dst          # 係り先文節インデックス番号\n",
    "        self.srcs = []          # 係り元文節インデックス番号のリスト"
   ]
  },
  {
   "cell_type": "code",
   "execution_count": 9,
   "metadata": {},
   "outputs": [],
   "source": [
    "def parseCabocha(block):\n",
    "    def checkCreateChunk(tmp):\n",
    "        if len(tmp) > 0:\n",
    "            c = Chunk(tmp, dst)\n",
    "            res.append(c)\n",
    "            tmp = []\n",
    "        return tmp\n",
    "\n",
    "    res = []\n",
    "    tmp = []\n",
    "    dst = None\n",
    "    for line in block.split('\\n'):# 文を行に分ける\n",
    "        if line == '': \n",
    "            # これまでの形態素を文節クラスに格納\n",
    "            tmp = checkCreateChunk(tmp)\n",
    "        elif line[0] == '*':\n",
    "            # 係り先文節インデックス番号 > dst\n",
    "            # これまでの形態素を文節クラスに格納\n",
    "            dst = line.split(' ')[2].rstrip('D')\n",
    "            tmp = checkCreateChunk(tmp)\n",
    "        else:\n",
    "            # 文節中なら行を形態素クラスに格納し、保持\n",
    "            (surface, attr) = line.split('\\t')\n",
    "            attr = attr.split(',')\n",
    "            lineDict = {\n",
    "                'surface': surface,\n",
    "                'base': attr[6],\n",
    "                'pos': attr[0],\n",
    "                'pos1': attr[1]\n",
    "            }\n",
    "            tmp.append(Morph(lineDict))\n",
    "\n",
    "    for i, r in enumerate(res):# 係り元index追加\n",
    "        if int(r.dst)>=0:\n",
    "            res[int(r.dst)].srcs.append(i)\n",
    "    return res"
   ]
  },
  {
   "cell_type": "code",
   "execution_count": 10,
   "metadata": {},
   "outputs": [
    {
     "name": "stdout",
     "output_type": "stream",
     "text": [
      "['この'] 7 []\n",
      "['書生', 'という', 'の', 'は'] 4 []\n",
      "['時々'] 4 []\n",
      "['我々', 'を'] 5 []\n",
      "['捕え', 'て'] 6 [1, 2]\n",
      "['煮', 'て'] 7 [3]\n",
      "['食う', 'という'] -1 [4]\n",
      "['話', 'で', 'ある', '。'] -1 [0, 5]\n"
     ]
    }
   ],
   "source": [
    "with open(path, mode='rt', encoding='utf-8') as f:\n",
    "    blockList = f.read().split('EOS\\n')\n",
    "blockList = list(filter(lambda x: x != '', blockList))\n",
    "\n",
    "# parseCabocha(block) 文節のリスト\n",
    "                    # res[i] \n",
    "blockList = [parseCabocha(block) for block in blockList]\n",
    "for m in blockList[7]:\n",
    "    print([mo.surface for mo in m.morphs], m.dst, m.srcs)"
   ]
  },
  {
   "cell_type": "code",
   "execution_count": null,
   "metadata": {},
   "outputs": [],
   "source": []
  },
  {
   "cell_type": "markdown",
   "metadata": {},
   "source": [
    "42. 係り元と係り先の文節の表示  \n",
    "係り元の文節と係り先の文節のテキストをタブ区切り形式ですべて抽出せよ．ただし，句読点などの記号は出力しないようにせよ．"
   ]
  },
  {
   "cell_type": "code",
   "execution_count": 11,
   "metadata": {},
   "outputs": [
    {
     "name": "stdout",
     "output_type": "stream",
     "text": [
      "\t猫である\n",
      "名前は\t無い\n",
      "どこで\tつかぬ\n",
      "生れたか\tつかぬ\n",
      "とんと\tつかぬ\n",
      "何でも\t所で\n",
      "薄暗い\t所で\n",
      "じめじめした\t泣いて\n",
      "所で\t泣いて\n",
      "ニャーニャー\t記憶している\n",
      "泣いて\t記憶している\n"
     ]
    }
   ],
   "source": [
    "for b in blockList[:5]:# b:parseCabocha(block)\n",
    "    for m in b:# m:Chunk\n",
    "        if int(m.dst) > -1:\n",
    "            print(''.join([mo.surface if mo.pos != '記号' else '' for mo in m.morphs]),\n",
    "                  ''.join([mo.surface if mo.pos != '記号' else '' for mo in b[int(m.dst)].morphs]), sep='\\t')\n",
    "# 記号が係っていると判断されると空白に置き換わっているので注意"
   ]
  },
  {
   "cell_type": "code",
   "execution_count": null,
   "metadata": {},
   "outputs": [],
   "source": []
  },
  {
   "cell_type": "markdown",
   "metadata": {},
   "source": [
    "43. 名詞を含む文節が動詞を含む文節に係るものを抽出  \n",
    "名詞を含む文節が，動詞を含む文節に係るとき，これらをタブ区切り形式で抽出せよ．ただし，句読点などの記号は出力しないようにせよ．"
   ]
  },
  {
   "cell_type": "code",
   "execution_count": 12,
   "metadata": {},
   "outputs": [
    {
     "name": "stdout",
     "output_type": "stream",
     "text": [
      "どこで\tつかぬ\n",
      "所で\t泣いて\n",
      "ニャーニャー\t記憶している\n"
     ]
    }
   ],
   "source": [
    "for b in blockList[:5]:# b:parseCabocha(block)\n",
    "    for m in b:# m:Chunk\n",
    "        if int(m.dst) > -1:\n",
    "            preText = ''.join([mo.surface if mo.pos != '記号' else '' for mo in m.morphs])\n",
    "            prePos = [mo.pos for mo in m.morphs]\n",
    "            postText = ''.join([mo.surface if mo.pos != '記号' else '' for mo in b[int(m.dst)].morphs])\n",
    "            postPos = [mo.pos for mo in b[int(m.dst)].morphs]\n",
    "            # 「名詞を含む文節が，動詞を含む文節に係るとき」の条件を付与します。\n",
    "            if '名詞' in prePos and '動詞' in postPos:\n",
    "                print(preText, postText, sep='\\t')"
   ]
  },
  {
   "cell_type": "code",
   "execution_count": null,
   "metadata": {},
   "outputs": [],
   "source": []
  },
  {
   "cell_type": "markdown",
   "metadata": {},
   "source": [
    "44. 係り受け木の可視化  \n",
    "与えられた文の係り受け木を有向グラフとして可視化せよ．可視化には，係り受け木をDOT言語に変換し，Graphvizを用いるとよい．また，Pythonから有向グラフを直接的に可視化するには，pydotを使うとよい．"
   ]
  },
  {
   "cell_type": "code",
   "execution_count": 13,
   "metadata": {},
   "outputs": [],
   "source": [
    "# n = pydot.Node('node')\n",
    "# n.fontname = \"arialuni.ttf\"\n",
    "# n.fontsize = 9\n",
    "# n.fontcolor = \"blue\""
   ]
  },
  {
   "cell_type": "code",
   "execution_count": 14,
   "metadata": {},
   "outputs": [],
   "source": [
    "import pydot\n",
    "from graphviz import Digraph\n",
    "graph_body = Digraph(format=\"png\")\n",
    "graph_body.attr('node', shape='box', fontname='MS Gothic')"
   ]
  },
  {
   "cell_type": "code",
   "execution_count": 15,
   "metadata": {},
   "outputs": [
    {
     "name": "stdout",
     "output_type": "stream",
     "text": [
      "[['この', '話である'], ['書生というのは', '捕えて'], ['時々', '捕えて'], ['我々を', '煮て'], ['捕えて', '食うという'], ['煮て', '話である']]\n"
     ]
    }
   ],
   "source": [
    "pairs = []\n",
    "target = blockList[7]\n",
    "for m in target:# m:Chunk \n",
    "    if int(m.dst) > -1:\n",
    "        preText = ''.join([mo.surface if mo.pos != '記号' else '' for mo in m.morphs])\n",
    "        postText = ''.join([mo.surface if mo.pos != '記号' else '' for mo in target[int(m.dst)].morphs])\n",
    "        pairs.append([preText, postText])\n",
    "\n",
    "print(pairs)\n",
    "g = pydot.graph_from_edges(pairs)"
   ]
  },
  {
   "cell_type": "code",
   "execution_count": 16,
   "metadata": {},
   "outputs": [],
   "source": [
    "# 日本語出力はできてない"
   ]
  },
  {
   "cell_type": "code",
   "execution_count": null,
   "metadata": {},
   "outputs": [],
   "source": []
  },
  {
   "cell_type": "markdown",
   "metadata": {},
   "source": [
    "45. 動詞の格パターンの抽出  \n",
    "今回用いている文章をコーパスと見なし，日本語の述語が取りうる格を調査したい． 動詞を述語，動詞に係っている文節の助詞を格と考え，述語と格をタブ区切り形式で出力せよ． ただし，出力は以下の仕様を満たすようにせよ．  \n",
    "・動詞を含む文節において，最左の動詞の基本形を述語とする  \n",
    "・述語に係る助詞を格とする  \n",
    "・述語に係る助詞（文節）が複数あるときは，すべての助詞をスペース区切りで辞書順に並べる  \n",
    "「吾輩はここで始めて人間というものを見た」という例文（neko.txt.cabochaの8文目）を考える． この文は「始める」と「見る」の２つの動詞を含み，「始める」に係る文節は「ここで」，「見る」に係る文節は「吾輩は」と「ものを」と解析された場合は，次のような出力になるはずである．  \n",
    ">始める  で  \n",
    ">見る    は を  \n",
    "\n",
    "このプログラムの出力をファイルに保存し，以下の事項をUNIXコマンドを用いて確認せよ．\n",
    "\n",
    "コーパス中で頻出する述語と格パターンの組み合わせ  \n",
    "「する」「見る」「与える」という動詞の格パターン（コーパス中で出現頻度の高い順に並べよ）"
   ]
  },
  {
   "cell_type": "code",
   "execution_count": 17,
   "metadata": {},
   "outputs": [],
   "source": [
    "# UNIXコマンドはパス"
   ]
  },
  {
   "cell_type": "code",
   "execution_count": 18,
   "metadata": {},
   "outputs": [
    {
     "name": "stdout",
     "output_type": "stream",
     "text": [
      "つく\tで か\n",
      "泣く\tで\n",
      "記憶\tて\n"
     ]
    }
   ],
   "source": [
    "for b in blockList[:5]:\n",
    "    for m in b:\n",
    "        if len(m.srcs) > 0:\n",
    "            preMorphs = [b[int(s)].morphs for s in m.srcs]\n",
    "            preMorphs = [list(filter(lambda x: '助詞' in x.pos, pm)) for pm in preMorphs]\n",
    "            preSurface = [[p.surface for p in pm] for pm in preMorphs]\n",
    "            preSurface = list(filter(lambda x: x != [], preSurface))\n",
    "            preSurface = [p[0] for p in preSurface]\n",
    "            postBase = [mo.base for mo in m.morphs]\n",
    "            postPos = [mo.pos for mo in m.morphs]\n",
    "            if len(preSurface) > 0 and '動詞' in postPos:\n",
    "                print(postBase[0], ' '.join(preSurface), sep='\\t')"
   ]
  },
  {
   "cell_type": "code",
   "execution_count": null,
   "metadata": {},
   "outputs": [],
   "source": []
  },
  {
   "cell_type": "markdown",
   "metadata": {},
   "source": [
    "46. 動詞の格フレーム情報の抽出  \n",
    "45のプログラムを改変し，述語と格パターンに続けて項（述語に係っている文節そのもの）をタブ区切り形式で出力せよ．45の仕様に加えて，以下の仕様を満たすようにせよ．  \n",
    "・項は述語に係っている文節の単語列とする（末尾の助詞を取り除く必要はない）  \n",
    "・述語に係る文節が複数あるときは，助詞と同一の基準・順序でスペース区切りで並べる  \n",
    "「吾輩はここで始めて人間というものを見た」という例文（neko.txt.cabochaの8文目）を考える． この文は「始める」と「見る」の２つの動詞を含み，「始める」に係る文節は「ここで」，「見る」に係る文節は「吾輩は」と「ものを」と解析された場合は，次のような出力になるはずである．  \n",
    ">始める  で      ここで  \n",
    ">見る    は を   吾輩は ものを"
   ]
  },
  {
   "cell_type": "code",
   "execution_count": 19,
   "metadata": {},
   "outputs": [
    {
     "name": "stdout",
     "output_type": "stream",
     "text": [
      "つく\tで か\t　どこで 生れたか\n",
      "泣く\tで\t所で\n",
      "記憶\tて\t泣いて\n"
     ]
    }
   ],
   "source": [
    "for b in blockList[:5]:\n",
    "    for m in b:\n",
    "        if len(m.srcs) > 0:\n",
    "            preMorphs = [b[int(s)].morphs for s in m.srcs]\n",
    "            preMorphsFiltered = [list(filter(lambda x: '助詞' in x.pos, pm)) for pm in preMorphs]\n",
    "            preSurface = [[p.surface for p in pm] for pm in preMorphsFiltered]\n",
    "            preSurface = list(filter(lambda x: x != [], preSurface))\n",
    "            preSurface = [p[0] for p in preSurface]\n",
    "            postBase = [mo.base for mo in m.morphs]\n",
    "            postPos = [mo.pos for mo in m.morphs]\n",
    "            if len(preSurface) > 0 and '動詞' in postPos:\n",
    "                preText = list(filter(lambda x: '助詞' in [p.pos for p in x], preMorphs))\n",
    "                preText = [''.join([p.surface for p in pt]) for pt in preText]\n",
    "                print(postBase[0], ' '.join(preSurface), ' '.join(preText), sep='\\t')"
   ]
  },
  {
   "cell_type": "code",
   "execution_count": null,
   "metadata": {},
   "outputs": [],
   "source": []
  },
  {
   "cell_type": "markdown",
   "metadata": {},
   "source": [
    "47. 機能動詞構文のマイニング  \n",
    "動詞のヲ格にサ変接続名詞が入っている場合のみに着目したい．46のプログラムを以下の仕様を満たすように改変せよ．  \n",
    "・「サ変接続名詞+を（助詞）」で構成される文節が動詞に係る場合のみを対象とする  \n",
    "・述語は「サ変接続名詞+を+動詞の基本形」とし，文節中に複数の動詞があるときは，最左の動詞を用いる  \n",
    "・述語に係る助詞（文節）が複数あるときは，すべての助詞をスペース区切りで辞書順に並べる  \n",
    "・述語に係る文節が複数ある場合は，すべての項をスペース区切りで並べる（助詞の並び順と揃えよ）  \n",
    "例えば「別段くるにも及ばんさと、主人は手紙に返事をする。」という文から，以下の出力が得られるはずである．  \n",
    ">返事をする      と に は        及ばんさと 手紙に 主人は\n",
    "\n",
    "このプログラムの出力をファイルに保存し，以下の事項をUNIXコマンドを用いて確認せよ．\n",
    "\n",
    "・コーパス中で頻出する述語（サ変接続名詞+を+動詞）  \n",
    "・コーパス中で頻出する述語と助詞パターン"
   ]
  },
  {
   "cell_type": "code",
   "execution_count": 20,
   "metadata": {},
   "outputs": [],
   "source": [
    "# UNIXコマンドはパス\n",
    "# サ変接続名詞とは"
   ]
  },
  {
   "cell_type": "code",
   "execution_count": 21,
   "metadata": {},
   "outputs": [
    {
     "name": "stdout",
     "output_type": "stream",
     "text": [
      "返報をする\tんで\t偸んで\n",
      "家族的生活をする\tて\tくして\n",
      "話をする\tで\t我儘で\n",
      "話をする\tに\t時に\n",
      "失笑するのを禁じる\tを て\t有様を 見て\n",
      "彩色を見る\t\t\n",
      "欠伸をする\t\t\n"
     ]
    }
   ],
   "source": [
    "# with open('./Section_5/ans47.txt', mode='w') as f:\n",
    "for b in blockList[:200]:\n",
    "    for i, m in enumerate(b):\n",
    "        if 'サ変接続' in [s.pos1 for s in m.morphs] and 'を' in [s.surface for s in m.morphs] and i + 1 < len(b) and b[i + 1].morphs[0].pos == '動詞':\n",
    "            text = ''.join([s.surface for s in m.morphs]) + b[i + 1].morphs[0].base\n",
    "            if len(m.srcs) > 0:\n",
    "                preMorphs = [b[int(s)].morphs for s in m.srcs]\n",
    "                preMorphsFiltered = [list(filter(lambda x: '助詞' in x.pos, pm)) for pm in preMorphs]\n",
    "                preSurface = [[p.surface for p in pm] for pm in preMorphsFiltered]\n",
    "                preSurface = list(filter(lambda x: x != [], preSurface))\n",
    "                preSurface = [p[0] for p in preSurface]\n",
    "                preText = list(filter(lambda x: '助詞' in [p.pos for p in x], preMorphs))\n",
    "                preText = [''.join([p.surface for p in pt]) for pt in preText]\n",
    "#                     if len(preSurface) > 0:\n",
    "#                         f.writelines('\\t'.join([text, ' '.join(preSurface), ' '.join(preText)]))\n",
    "#                         f.write('\\n')\n",
    "                print('\\t'.join([text, ' '.join(preSurface), ' '.join(preText)]))"
   ]
  },
  {
   "cell_type": "code",
   "execution_count": null,
   "metadata": {},
   "outputs": [],
   "source": []
  },
  {
   "cell_type": "markdown",
   "metadata": {},
   "source": [
    "48. 名詞から根へのパスの抽出  \n",
    "文中のすべての名詞を含む文節に対し，その文節から構文木の根に至るパスを抽出せよ．  \n",
    "ただし，構文木上のパスは以下の仕様を満たすものとする．  \n",
    "・各文節は（表層形の）形態素列で表現する  \n",
    "・パスの開始文節から終了文節に至るまで，各文節の表現を” -> “で連結する  \n",
    "「吾輩はここで始めて人間というものを見た」という文（neko.txt.cabochaの8文目）から，次のような出力が得られるはずである．  \n",
    ">吾輩は -> 見た  \n",
    ">ここで -> 始めて -> 人間という -> ものを -> 見た  \n",
    ">人間という -> ものを -> 見た  \n",
    ">ものを -> 見た"
   ]
  },
  {
   "cell_type": "code",
   "execution_count": 22,
   "metadata": {},
   "outputs": [
    {
     "name": "stdout",
     "output_type": "stream",
     "text": [
      "名前は -> 無い。\n",
      "　どこで -> つかぬ。\n",
      "何でも -> 所で -> 泣いて -> 記憶している。\n",
      "所で -> 泣いて -> 記憶している。\n",
      "ニャーニャー -> 記憶している。\n"
     ]
    }
   ],
   "source": [
    "for b in blockList[:5]:\n",
    "    for m in b:\n",
    "        text = []\n",
    "        if '名詞' in [s.pos for s in m.morphs] and int(m.dst) != -1:\n",
    "            currentChunk = m\n",
    "            text.append(''.join([m.surface for m in currentChunk.morphs]))\n",
    "            nextChunk = b[int(currentChunk.dst)]\n",
    "            while int(currentChunk.dst) != -1:\n",
    "                text.append(''.join([m.surface for m in nextChunk.morphs]))\n",
    "                currentChunk = nextChunk\n",
    "                nextChunk = b[int(nextChunk.dst)]\n",
    "            print(*text, sep=' -> ')"
   ]
  },
  {
   "cell_type": "code",
   "execution_count": null,
   "metadata": {},
   "outputs": [],
   "source": []
  },
  {
   "cell_type": "markdown",
   "metadata": {},
   "source": [
    "49. 名詞間の係り受けパスの抽出  \n",
    "文中のすべての名詞句のペアを結ぶ最短係り受けパスを抽出せよ．  \n",
    "ただし，名詞句ペアの文節番号がiとj（i<j）のとき，係り受けパスは以下の仕様を満たすものとする．  \n",
    "・問題48と同様に，パスは開始文節から終了文節に至るまでの各文節の表現（表層形の形態素列）を” -> “で連結して表現する  \n",
    "・文節iとjに含まれる名詞句はそれぞれ，XとYに置換する  \n",
    "また，係り受けパスの形状は，以下の2通りが考えられる．  \n",
    "・文節iから構文木の根に至る経路上に文節jが存在する場合: 文節iから文節jのパスを表示  \n",
    "・上記以外で，文節iと文節jから構文木の根に至る経路上で共通の文節kで交わる場合: 文節iから文節kに至る直前のパスと文節jから文節kに至る直前までのパス，文節kの内容を” | “で連結して表示  \n",
    "例えば，「吾輩はここで始めて人間というものを見た。」という文（neko.txt.cabochaの8文目）から，次のような出力が得られるはずである．  \n",
    ">Xは | Yで -> 始めて -> 人間という -> ものを | 見た  \n",
    ">Xは | Yという -> ものを | 見た  \n",
    ">Xは | Yを | 見た  \n",
    ">Xで -> 始めて -> Y  \n",
    ">Xで -> 始めて -> 人間という -> Y  \n",
    ">Xという -> Y"
   ]
  },
  {
   "cell_type": "code",
   "execution_count": 23,
   "metadata": {},
   "outputs": [],
   "source": [
    "def convert(s):\n",
    "    pl, nl = [], [c for c in s if '名詞' in [m.pos for m in c.morphs]]\n",
    "    for i in range(len(nl) - 1):\n",
    "        st1 = [''.join([m.surface if m.pos != '名詞' else 'X' for m in nl[i].morphs])]\n",
    "        for e in nl[i + 1:]:\n",
    "            dst, p = nl[i].dst, []\n",
    "            st2 = [''.join([m.surface if m.pos != '名詞' else 'Y' for m in e.morphs])]\n",
    "            while int(dst) != -1 and dst != s.index(e):\n",
    "                p.append(s[int(dst)])\n",
    "                dst = s[int(dst)].dst\n",
    "            if len(p) < 1 or p[-1].dst != -1:\n",
    "                mid = [''.join([m.surface for m in c.morphs if m.pos != '記号']) for c in p]\n",
    "                pl.append(st1 + mid + ['Y'])\n",
    "            else:\n",
    "                mid, dst = [], e.dst\n",
    "                while not s[int(dst)] in p:\n",
    "                    mid.append(''.join([m.surface for m in s[int(dst)].morphs if m.pos != '記号']))\n",
    "                    dst = s[int(dst)].dst\n",
    "                ed = [''.join([m.surface for m in s[int(dst)].morphs if m.pos != '記号'])]\n",
    "                pl.append([st1, st2 + mid, ed])\n",
    "    return pl"
   ]
  },
  {
   "cell_type": "code",
   "execution_count": 24,
   "metadata": {},
   "outputs": [
    {
     "name": "stdout",
     "output_type": "stream",
     "text": [
      "Xは -> Y\n",
      "　Xで -> つかぬ -> Y\n",
      "Xでも -> 所で -> 泣いて -> 記憶している -> Y\n",
      "Xでも -> 所で -> 泣いて -> 記憶している -> Y\n",
      "Xでも -> 所で -> 泣いて -> 記憶している -> Y\n",
      "Xでも -> 所で -> 泣いて -> 記憶している -> Y\n",
      "Xで -> 泣いて -> 記憶している -> Y\n",
      "Xで -> 泣いて -> 記憶している -> Y\n",
      "Xで -> 泣いて -> 記憶している -> Y\n",
      "X -> 記憶している -> Y\n",
      "X -> 記憶している -> Y\n",
      "Xだけは -> Y\n"
     ]
    }
   ],
   "source": [
    "for b in blockList[:5]:\n",
    "    pl = (convert(b))\n",
    "    for p in pl:\n",
    "        if isinstance(p[0], str):\n",
    "            print(' -> '.join(p))\n",
    "        else:\n",
    "            print(p[0][0], ' -> '.join(p[1]), p[2][0], sep=' | ')"
   ]
  },
  {
   "cell_type": "code",
   "execution_count": null,
   "metadata": {},
   "outputs": [],
   "source": [
    "# あってる？"
   ]
  }
 ],
 "metadata": {
  "kernelspec": {
   "display_name": "Python 3",
   "language": "python",
   "name": "python3"
  },
  "language_info": {
   "codemirror_mode": {
    "name": "ipython",
    "version": 3
   },
   "file_extension": ".py",
   "mimetype": "text/x-python",
   "name": "python",
   "nbconvert_exporter": "python",
   "pygments_lexer": "ipython3",
   "version": "3.8.2"
  }
 },
 "nbformat": 4,
 "nbformat_minor": 4
}
