{
 "cells": [
  {
   "cell_type": "markdown",
   "metadata": {},
   "source": [
    "00 文字列の逆順  \n",
    "文字列”stressed”の文字を逆に（末尾から先頭に向かって）並べた文字列を得よ．"
   ]
  },
  {
   "cell_type": "code",
   "execution_count": 1,
   "metadata": {},
   "outputs": [],
   "source": [
    "stressed = \"stressed\"\n",
    "reverse = stressed[::-1]"
   ]
  },
  {
   "cell_type": "code",
   "execution_count": 2,
   "metadata": {},
   "outputs": [],
   "source": [
    "reverse"
   ]
  },
  {
   "cell_type": "markdown",
   "metadata": {},
   "source": [
    "01 「パタトクカシーー」  \n",
    "「パタトクカシーー」という文字列の1,3,5,7文字目を取り出して連結した文字列を得よ．"
   ]
  },
  {
   "cell_type": "code",
   "execution_count": 3,
   "metadata": {},
   "outputs": [],
   "source": [
    "patatokukasi__ = \"パタトクカシー\"\n",
    "patoka_ = patatokukasi__[0::2]"
   ]
  },
  {
   "cell_type": "code",
   "execution_count": 4,
   "metadata": {},
   "outputs": [
    {
     "data": {
      "text/plain": [
       "'パトカー'"
      ]
     },
     "execution_count": 4,
     "metadata": {},
     "output_type": "execute_result"
    }
   ],
   "source": [
    "patoka_"
   ]
  },
  {
   "cell_type": "markdown",
   "metadata": {},
   "source": [
    "02 「パトカー」＋「タクシー」＝「パタトクカシーー」  \n",
    "「パトカー」＋「タクシー」の文字を先頭から交互に連結して文字列「パタトクカシーー」を得よ．"
   ]
  },
  {
   "cell_type": "code",
   "execution_count": 5,
   "metadata": {},
   "outputs": [],
   "source": [
    "patoka_ = \"パトカー\"\n",
    "takusi_ = \"タクシー\"\n",
    "patatokukasi__ = \"\".join([p+t for p,t in zip(patoka_, takusi_)])"
   ]
  },
  {
   "cell_type": "code",
   "execution_count": 6,
   "metadata": {},
   "outputs": [
    {
     "data": {
      "text/plain": [
       "'パタトクカシーー'"
      ]
     },
     "execution_count": 6,
     "metadata": {},
     "output_type": "execute_result"
    }
   ],
   "source": [
    "patatokukasi__"
   ]
  },
  {
   "cell_type": "markdown",
   "metadata": {},
   "source": [
    "03 円周率  \n",
    "“Now I need a drink, alcoholic of course, after the heavy lectures involving quantum mechanics.”という文を単語に分解し，各単語の（アルファベットの）文字数を先頭から出現順に並べたリストを作成せよ．"
   ]
  },
  {
   "cell_type": "code",
   "execution_count": 7,
   "metadata": {},
   "outputs": [],
   "source": [
    "sentence = \"Now I need a drink, alcoholic of course, after the heavy lectures involving quantum mechanics.\"\n",
    "sentence = sentence.replace(\".\",\"\")\n",
    "sentence = sentence.replace(\",\",\"\")\n",
    "sentence_words = sentence.split(\" \")"
   ]
  },
  {
   "cell_type": "code",
   "execution_count": 8,
   "metadata": {},
   "outputs": [
    {
     "data": {
      "text/plain": [
       "['Now',\n",
       " 'I',\n",
       " 'need',\n",
       " 'a',\n",
       " 'drink',\n",
       " 'alcoholic',\n",
       " 'of',\n",
       " 'course',\n",
       " 'after',\n",
       " 'the',\n",
       " 'heavy',\n",
       " 'lectures',\n",
       " 'involving',\n",
       " 'quantum',\n",
       " 'mechanics']"
      ]
     },
     "execution_count": 8,
     "metadata": {},
     "output_type": "execute_result"
    }
   ],
   "source": [
    "sentence_words"
   ]
  },
  {
   "cell_type": "markdown",
   "metadata": {},
   "source": [
    "04 元素記号  \n",
    "“Hi He Lied Because Boron Could Not Oxidize Fluorine. New Nations Might Also Sign Peace Security Clause. Arthur King Can.”という文を単語に分解し，1, 5, 6, 7, 8, 9, 15, 16, 19番目の単語は先頭の1文字，それ以外の単語は先頭に2文字を取り出し，取り出した文字列から単語の位置（先頭から何番目の単語か）への連想配列（辞書型もしくはマップ型）を作成せよ．"
   ]
  },
  {
   "cell_type": "code",
   "execution_count": 9,
   "metadata": {},
   "outputs": [
    {
     "data": {
      "text/plain": [
       "20"
      ]
     },
     "execution_count": 9,
     "metadata": {},
     "output_type": "execute_result"
    }
   ],
   "source": [
    "import numpy as np\n",
    "sentence = \"Hi He Lied Because Boron Could Not Oxidize Fluorine. New Nations Might Also Sign Peace Security Clause. Arthur King Can.\"\n",
    "sentence = sentence.replace(\",\",\"\")\n",
    "sentence = sentence.replace(\".\",\"\")\n",
    "sentence_words = np.array(sentence.split(\" \"))\n",
    "len(sentence_words)"
   ]
  },
  {
   "cell_type": "code",
   "execution_count": 10,
   "metadata": {},
   "outputs": [],
   "source": [
    "specific_idx = [idx-1 for idx in [1, 5, 6, 7, 8, 9, 15, 16, 19]]\n",
    "ordinary_idx = [idx for idx in list(range(len(sentence_words)) ) if idx not in specific_idx]"
   ]
  },
  {
   "cell_type": "code",
   "execution_count": 11,
   "metadata": {},
   "outputs": [
    {
     "data": {
      "text/plain": [
       "[0, 4, 5, 6, 7, 8, 14, 15, 18]"
      ]
     },
     "execution_count": 11,
     "metadata": {},
     "output_type": "execute_result"
    }
   ],
   "source": [
    "specific_idx"
   ]
  },
  {
   "cell_type": "code",
   "execution_count": 12,
   "metadata": {},
   "outputs": [
    {
     "data": {
      "text/plain": [
       "['H', 'B', 'C', 'N', 'O', 'F', 'P', 'S', 'K']"
      ]
     },
     "execution_count": 12,
     "metadata": {},
     "output_type": "execute_result"
    }
   ],
   "source": [
    "[w[0] for w in sentence_words[specific_idx]]"
   ]
  },
  {
   "cell_type": "code",
   "execution_count": 13,
   "metadata": {},
   "outputs": [
    {
     "data": {
      "text/plain": [
       "[1, 2, 3, 9, 10, 11, 12, 13, 16, 17, 19]"
      ]
     },
     "execution_count": 13,
     "metadata": {},
     "output_type": "execute_result"
    }
   ],
   "source": [
    "ordinary_idx"
   ]
  },
  {
   "cell_type": "code",
   "execution_count": 14,
   "metadata": {},
   "outputs": [
    {
     "data": {
      "text/plain": [
       "['He', 'Li', 'Be', 'Ne', 'Na', 'Mi', 'Al', 'Si', 'Cl', 'Ar', 'Ca']"
      ]
     },
     "execution_count": 14,
     "metadata": {},
     "output_type": "execute_result"
    }
   ],
   "source": [
    "[w[:2] for w in sentence_words[ordinary_idx]]"
   ]
  },
  {
   "cell_type": "code",
   "execution_count": 15,
   "metadata": {},
   "outputs": [
    {
     "data": {
      "text/plain": [
       "{0: 'H',\n",
       " 4: 'B',\n",
       " 5: 'C',\n",
       " 6: 'N',\n",
       " 7: 'O',\n",
       " 8: 'F',\n",
       " 14: 'P',\n",
       " 15: 'S',\n",
       " 18: 'K',\n",
       " 1: 'He',\n",
       " 2: 'Li',\n",
       " 3: 'Be',\n",
       " 9: 'Ne',\n",
       " 10: 'Na',\n",
       " 11: 'Mi',\n",
       " 12: 'Al',\n",
       " 13: 'Si',\n",
       " 16: 'Cl',\n",
       " 17: 'Ar',\n",
       " 19: 'Ca'}"
      ]
     },
     "execution_count": 15,
     "metadata": {},
     "output_type": "execute_result"
    }
   ],
   "source": [
    "{\n",
    "    k:v\n",
    "    for k, v in zip(\n",
    "        specific_idx + \n",
    "        ordinary_idx,\n",
    "        [w[0] for w in sentence_words[specific_idx]] + \n",
    "        [w[:2] for w in sentence_words[ordinary_idx]]\n",
    "    )\n",
    "}"
   ]
  },
  {
   "cell_type": "markdown",
   "metadata": {},
   "source": [
    "05 n-gram  \n",
    "与えられたシーケンス（文字列やリストなど）からn-gramを作る関数を作成せよ．この関数を用い，”I am an NLPer”という文から単語bi-gram，文字bi-gramを得よ．"
   ]
  },
  {
   "cell_type": "code",
   "execution_count": 4,
   "metadata": {},
   "outputs": [],
   "source": [
    "def wordNgram(sentence, n):\n",
    "    sentence_words = sentence.split(\" \")\n",
    "    ngram = []\n",
    "    for idx in range(len(sentence_words)//n):\n",
    "        ngram += [\" \".join(sentence_words[n*idx: n*(idx+1)])]\n",
    "    if len(sentence_words)%n != 0:\n",
    "        ngram += [\" \".join(sentence_words[n*(len(sentence_words)//n):])]\n",
    "    return ngram\n",
    "    \n",
    "def letterNgram(sentence, n):\n",
    "    sentence = sentence.replace(\" \",\"\")\n",
    "    ngram = []\n",
    "    for idx in range(len(sentence)//n):\n",
    "        ngram += [sentence[n*idx:n*(idx+1)]]\n",
    "    if len(sentence)%n != 0:\n",
    "        ngram += [sentence[n*(len(sentence)//n):]]\n",
    "    return ngram\n",
    "    "
   ]
  },
  {
   "cell_type": "code",
   "execution_count": 5,
   "metadata": {},
   "outputs": [
    {
     "data": {
      "text/plain": [
       "['I am', 'an NLPer']"
      ]
     },
     "execution_count": 5,
     "metadata": {},
     "output_type": "execute_result"
    }
   ],
   "source": [
    "wordNgram(\"I am an NLPer\", 2)"
   ]
  },
  {
   "cell_type": "code",
   "execution_count": 6,
   "metadata": {},
   "outputs": [
    {
     "data": {
      "text/plain": [
       "['Ia', 'ma', 'nN', 'LP', 'er']"
      ]
     },
     "execution_count": 6,
     "metadata": {},
     "output_type": "execute_result"
    }
   ],
   "source": [
    "letterNgram(\"I am an NLPer\", 2)"
   ]
  },
  {
   "cell_type": "markdown",
   "metadata": {},
   "source": [
    "06 集合  \n",
    "“paraparaparadise”と”paragraph”に含まれる文字bi-gramの集合を，それぞれ, XとYとして求め，XとYの和集合，積集合，差集合を求めよ．さらに，’se’というbi-gramがXおよびYに含まれるかどうかを調べよ．"
   ]
  },
  {
   "cell_type": "code",
   "execution_count": 8,
   "metadata": {},
   "outputs": [],
   "source": [
    "paraparaparadise = \"paraparaparadise\"\n",
    "paragraph = \"paragraph\"\n",
    "X = set(letterNgram(paraparaparadise,2))\n",
    "Y = set(letterNgram(paragraph,2))"
   ]
  },
  {
   "cell_type": "code",
   "execution_count": 16,
   "metadata": {},
   "outputs": [
    {
     "data": {
      "text/plain": [
       "{'di', 'pa', 'ra', 'se'}"
      ]
     },
     "execution_count": 16,
     "metadata": {},
     "output_type": "execute_result"
    }
   ],
   "source": [
    "X"
   ]
  },
  {
   "cell_type": "code",
   "execution_count": 17,
   "metadata": {},
   "outputs": [
    {
     "data": {
      "text/plain": [
       "{'ap', 'gr', 'h', 'pa', 'ra'}"
      ]
     },
     "execution_count": 17,
     "metadata": {},
     "output_type": "execute_result"
    }
   ],
   "source": [
    "Y"
   ]
  },
  {
   "cell_type": "code",
   "execution_count": 11,
   "metadata": {},
   "outputs": [
    {
     "data": {
      "text/plain": [
       "{'ap', 'di', 'gr', 'h', 'pa', 'ra', 'se'}"
      ]
     },
     "execution_count": 11,
     "metadata": {},
     "output_type": "execute_result"
    }
   ],
   "source": [
    "X | Y"
   ]
  },
  {
   "cell_type": "code",
   "execution_count": 13,
   "metadata": {},
   "outputs": [
    {
     "data": {
      "text/plain": [
       "{'pa', 'ra'}"
      ]
     },
     "execution_count": 13,
     "metadata": {},
     "output_type": "execute_result"
    }
   ],
   "source": [
    "X & Y"
   ]
  },
  {
   "cell_type": "code",
   "execution_count": 14,
   "metadata": {},
   "outputs": [
    {
     "data": {
      "text/plain": [
       "{'di', 'se'}"
      ]
     },
     "execution_count": 14,
     "metadata": {},
     "output_type": "execute_result"
    }
   ],
   "source": [
    "X - Y"
   ]
  },
  {
   "cell_type": "code",
   "execution_count": 15,
   "metadata": {},
   "outputs": [
    {
     "data": {
      "text/plain": [
       "{'ap', 'gr', 'h'}"
      ]
     },
     "execution_count": 15,
     "metadata": {},
     "output_type": "execute_result"
    }
   ],
   "source": [
    "Y - X"
   ]
  },
  {
   "cell_type": "code",
   "execution_count": 18,
   "metadata": {},
   "outputs": [
    {
     "data": {
      "text/plain": [
       "True"
      ]
     },
     "execution_count": 18,
     "metadata": {},
     "output_type": "execute_result"
    }
   ],
   "source": [
    "\"se\" in X"
   ]
  },
  {
   "cell_type": "code",
   "execution_count": 19,
   "metadata": {},
   "outputs": [
    {
     "data": {
      "text/plain": [
       "False"
      ]
     },
     "execution_count": 19,
     "metadata": {},
     "output_type": "execute_result"
    }
   ],
   "source": [
    "\"se\" in Y"
   ]
  },
  {
   "cell_type": "markdown",
   "metadata": {},
   "source": [
    "07 テンプレートによる文生成  \n",
    "引数x, y, zを受け取り「x時のyはz」という文字列を返す関数を実装せよ．さらに，x=12, y=”気温”, z=22.4として，実行結果を確認せよ．"
   ]
  },
  {
   "cell_type": "code",
   "execution_count": 20,
   "metadata": {},
   "outputs": [],
   "source": [
    "def printTemplate07(x, y, z):\n",
    "    return \"{}時の{}は{}\".format(x,y,z)"
   ]
  },
  {
   "cell_type": "code",
   "execution_count": 21,
   "metadata": {},
   "outputs": [
    {
     "data": {
      "text/plain": [
       "'12時の気温は22.4'"
      ]
     },
     "execution_count": 21,
     "metadata": {},
     "output_type": "execute_result"
    }
   ],
   "source": [
    "printTemplate07(12,\"気温\",22.4)"
   ]
  },
  {
   "cell_type": "markdown",
   "metadata": {},
   "source": [
    "08 暗号文  \n",
    "与えられた文字列の各文字を，以下の仕様で変換する関数cipherを実装せよ．  \n",
    "・英小文字ならば(219 - 文字コード)の文字に置換  \n",
    "・その他の文字はそのまま出力  \n",
    "この関数を用い，英語のメッセージを暗号化・復号せよ．"
   ]
  },
  {
   "cell_type": "code",
   "execution_count": 24,
   "metadata": {},
   "outputs": [],
   "source": [
    "def cipher(sentence):\n",
    "    code=\"\"\n",
    "    for l in sentence:\n",
    "        if l.islower():\n",
    "            code += chr(219-ord(l))\n",
    "        else:\n",
    "            code += l\n",
    "    return code"
   ]
  },
  {
   "cell_type": "code",
   "execution_count": 27,
   "metadata": {},
   "outputs": [
    {
     "data": {
      "text/plain": [
       "'Mrhhrlm Inklhhryov'"
      ]
     },
     "execution_count": 27,
     "metadata": {},
     "output_type": "execute_result"
    }
   ],
   "source": [
    "cipher(\"Mission Impossible\")"
   ]
  },
  {
   "cell_type": "markdown",
   "metadata": {},
   "source": [
    "09 Typoglycemia  \n",
    "スペースで区切られた単語列に対して，各単語の先頭と末尾の文字は残し，それ以外の文字の順序をランダムに並び替えるプログラムを作成せよ．ただし，長さが４以下の単語は並び替えないこととする．適当な英語の文（例えば”I couldn’t believe that I could actually understand what I was reading : the phenomenal power of the human mind .”）を与え，その実行結果を確認せよ．"
   ]
  },
  {
   "cell_type": "code",
   "execution_count": 34,
   "metadata": {},
   "outputs": [],
   "source": [
    "import random\n",
    "def typoglycemia(sentence):\n",
    "    sentence_words = sentence.split(\" \")\n",
    "    typoglycemia=[]\n",
    "    for word in sentence_words:\n",
    "        if len(word)<=4:\n",
    "            typoglycemia += [word]\n",
    "            continue\n",
    "        #if #some conditions\n",
    "        typoglycemia += [\n",
    "            word[0]+\n",
    "            \"\".join(\n",
    "                random.sample(\n",
    "                    word[1:-1],\n",
    "                    len(word[1:-1])\n",
    "                )\n",
    "            )+\n",
    "            word[-1]\n",
    "        ]\n",
    "    return \" \".join(typoglycemia)"
   ]
  },
  {
   "cell_type": "code",
   "execution_count": 35,
   "metadata": {},
   "outputs": [
    {
     "data": {
      "text/plain": [
       "'I culod’nt blvieee that I colud atlalucy usenrtnadd what I was rdaineg : the pehnoenmal power of the huamn mind.'"
      ]
     },
     "execution_count": 35,
     "metadata": {},
     "output_type": "execute_result"
    }
   ],
   "source": [
    "sentence = \"I couldn’t believe that I could actually understand what I was reading : the phenomenal power of the human mind.\"\n",
    "typoglycemia(sentence)"
   ]
  },
  {
   "cell_type": "code",
   "execution_count": null,
   "metadata": {},
   "outputs": [],
   "source": []
  }
 ],
 "metadata": {
  "kernelspec": {
   "display_name": "Python 3",
   "language": "python",
   "name": "python3"
  },
  "language_info": {
   "codemirror_mode": {
    "name": "ipython",
    "version": 3
   },
   "file_extension": ".py",
   "mimetype": "text/x-python",
   "name": "python",
   "nbconvert_exporter": "python",
   "pygments_lexer": "ipython3",
   "version": "3.7.7"
  }
 },
 "nbformat": 4,
 "nbformat_minor": 4
}
