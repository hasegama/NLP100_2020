{
 "cells": [
  {
   "cell_type": "code",
   "execution_count": 1,
   "metadata": {},
   "outputs": [],
   "source": [
    "def flatten(outer_list):\n",
    "    return [el for inner_list in outer_list for el in inner_list]\n",
    "        "
   ]
  },
  {
   "cell_type": "markdown",
   "metadata": {},
   "source": [
    "## 第4章: 形態素解析  \n",
    "夏目漱石の小説『吾輩は猫である』の文章（neko.txt）をMeCabを使って形態素解析し，その結果をneko.txt.mecabというファイルに保存せよ．  \n",
    "このファイルを用いて，以下の問に対応するプログラムを実装せよ．  \n",
    "なお，問題37, 38, 39はmatplotlibもしくはGnuplotを用いるとよい．"
   ]
  },
  {
   "cell_type": "code",
   "execution_count": 2,
   "metadata": {},
   "outputs": [],
   "source": [
    "path=\"./Section_4/neko.txt.mecab\""
   ]
  },
  {
   "cell_type": "code",
   "execution_count": 3,
   "metadata": {},
   "outputs": [],
   "source": [
    "!mecab < ./Section_4/neko.txt > $path"
   ]
  },
  {
   "cell_type": "markdown",
   "metadata": {},
   "source": [
    "30. 形態素解析結果の読み込み  \n",
    "形態素解析結果（neko.txt.mecab）を読み込むプログラムを実装せよ．ただし，各形態素は表層形（surface），基本形（base），品詞（pos），品詞細分類1（pos1）をキーとするマッピング型に格納し，1文を形態素（マッピング型）のリストとして表現せよ．第4章の残りの問題では，ここで作ったプログラムを活用せよ．"
   ]
  },
  {
   "cell_type": "code",
   "execution_count": 4,
   "metadata": {},
   "outputs": [],
   "source": [
    "def parseMecab(block):\n",
    "    res = []\n",
    "    for line in block.split('\\n'):\n",
    "        if line == '':# 文末\n",
    "            return res\n",
    "        (surface, attr) = line.split('\\t')\n",
    "        attr = attr.split(',')\n",
    "        lineDict = {\n",
    "            'surface': surface,\n",
    "            'base': attr[6],\n",
    "            'pos': attr[0],\n",
    "            'pos1': attr[1]\n",
    "        }\n",
    "        res.append(lineDict)"
   ]
  },
  {
   "cell_type": "code",
   "execution_count": 5,
   "metadata": {},
   "outputs": [
    {
     "name": "stdout",
     "output_type": "stream",
     "text": [
      "[{'surface': '名前', 'base': '名前', 'pos': '名詞', 'pos1': '一般'}, {'surface': 'は', 'base': 'は', 'pos': '助詞', 'pos1': '係助詞'}, {'surface': 'まだ', 'base': 'まだ', 'pos': '副詞', 'pos1': '助詞類接続'}, {'surface': '無い', 'base': '無い', 'pos': '形容詞', 'pos1': '自立'}, {'surface': '。', 'base': '。', 'pos': '記号', 'pos1': '句点'}]\n"
     ]
    }
   ],
   "source": [
    "with open(path, mode='rt', encoding='utf-8') as f:\n",
    "    # file全体を文字列読み込み、\"EOS\\n\"で分割、リストを返す\n",
    "    blockList = f.read().split('EOS\\n')\n",
    "blockList = list(filter(lambda x: x != '', blockList))# [x for x in blockList if x != \"\"]\n",
    "blockList = [parseMecab(block) for block in blockList]\n",
    "print(blockList[2])"
   ]
  },
  {
   "cell_type": "code",
   "execution_count": 6,
   "metadata": {},
   "outputs": [
    {
     "name": "stdout",
     "output_type": "stream",
     "text": [
      "{'surface': '名前', 'base': '名前', 'pos': '名詞', 'pos1': '一般'}\n",
      "{'surface': 'は', 'base': 'は', 'pos': '助詞', 'pos1': '係助詞'}\n",
      "{'surface': 'まだ', 'base': 'まだ', 'pos': '副詞', 'pos1': '助詞類接続'}\n",
      "{'surface': '無い', 'base': '無い', 'pos': '形容詞', 'pos1': '自立'}\n",
      "{'surface': '。', 'base': '。', 'pos': '記号', 'pos1': '句点'}\n"
     ]
    }
   ],
   "source": [
    "for x in blockList[2]:\n",
    "    print(x)"
   ]
  },
  {
   "cell_type": "markdown",
   "metadata": {},
   "source": [
    "31. 動詞  \n",
    "動詞の表層形をすべて抽出せよ．"
   ]
  },
  {
   "cell_type": "code",
   "execution_count": 7,
   "metadata": {},
   "outputs": [],
   "source": [
    "def extract(block):\n",
    "    res = list(filter(lambda x: x['pos'] == '動詞', block))# [x for x in block if x[\"pos\"] == \"動詞\"]\n",
    "    res = [r['surface'] for r in res]\n",
    "    return res"
   ]
  },
  {
   "cell_type": "code",
   "execution_count": 8,
   "metadata": {},
   "outputs": [
    {
     "name": "stdout",
     "output_type": "stream",
     "text": [
      "['生れ', 'つか', 'し', '泣い', 'し']\n"
     ]
    }
   ],
   "source": [
    "with open(path, mode='rt', encoding='utf-8') as f:\n",
    "    blockList = f.read().split('EOS\\n')\n",
    "blockList = list(filter(lambda x: x != '', blockList))\n",
    "blockList = [parseMecab(block) for block in blockList]\n",
    "# ここまで30と同じ\n",
    "\n",
    "ans = flatten([extract(block) for block in blockList])\n",
    "print(ans[:5])"
   ]
  },
  {
   "cell_type": "code",
   "execution_count": null,
   "metadata": {},
   "outputs": [],
   "source": []
  },
  {
   "cell_type": "markdown",
   "metadata": {},
   "source": [
    "32. 動詞の原形  \n",
    "動詞の原形をすべて抽出せよ．"
   ]
  },
  {
   "cell_type": "code",
   "execution_count": 9,
   "metadata": {},
   "outputs": [],
   "source": [
    "def extract(block):\n",
    "    res = list(filter(lambda x: x['pos'] == '動詞', block))\n",
    "    res = [r['base'] for r in res]# << 31との違い\n",
    "    return res"
   ]
  },
  {
   "cell_type": "code",
   "execution_count": 10,
   "metadata": {},
   "outputs": [
    {
     "name": "stdout",
     "output_type": "stream",
     "text": [
      "['生れる', 'つく', 'する', '泣く', 'する']\n"
     ]
    }
   ],
   "source": [
    "with open(path, mode='rt', encoding='utf-8') as f:\n",
    "    blockList = f.read().split('EOS\\n')\n",
    "blockList = list(filter(lambda x: x != '', blockList))\n",
    "blockList = [parseMecab(block) for block in blockList]\n",
    "ans = flatten([extract(block) for block in blockList])\n",
    "# mainスクリプトは31と同じ\n",
    "print(ans[:5])"
   ]
  },
  {
   "cell_type": "code",
   "execution_count": null,
   "metadata": {},
   "outputs": [],
   "source": []
  },
  {
   "cell_type": "markdown",
   "metadata": {},
   "source": [
    "33. 「AのB」  \n",
    "2つの名詞が「の」で連結されている名詞句を抽出せよ．"
   ]
  },
  {
   "cell_type": "code",
   "execution_count": 11,
   "metadata": {},
   "outputs": [],
   "source": [
    "def extract(block):\n",
    "    res = []\n",
    "    for i in range(1, len(block) - 1):\n",
    "        if block[i - 1]['pos'] == '名詞' and block[i]['base'] == 'の' and block[i + 1]['pos'] == '名詞':\n",
    "            res.append(block[i - 1]['surface'] + block[i]['surface'] + block[i + 1]['surface'])\n",
    "    return res"
   ]
  },
  {
   "cell_type": "code",
   "execution_count": 12,
   "metadata": {},
   "outputs": [
    {
     "name": "stdout",
     "output_type": "stream",
     "text": [
      "['彼の掌', '掌の上', '書生の顔', 'はずの顔', '顔の真中']\n"
     ]
    }
   ],
   "source": [
    "with open(path, mode='rt', encoding='utf-8') as f:\n",
    "    blockList = f.read().split('EOS\\n')\n",
    "blockList = list(filter(lambda x: x != '', blockList))\n",
    "blockList = [parseMecab(block) for block in blockList]\n",
    "ans = flatten([extract(block) for block in blockList])\n",
    "print(ans[:5])"
   ]
  },
  {
   "cell_type": "code",
   "execution_count": null,
   "metadata": {},
   "outputs": [],
   "source": []
  },
  {
   "cell_type": "markdown",
   "metadata": {},
   "source": [
    "34. 名詞の連接  \n",
    "名詞の連接（連続して出現する名詞）を最長一致で抽出せよ．"
   ]
  },
  {
   "cell_type": "code",
   "execution_count": 13,
   "metadata": {},
   "outputs": [],
   "source": [
    "# 最長一致→block内での連接が一番長いということだとすると\n",
    "# extract内で最長判断処理を追加すべきか\n",
    "def extract(block):\n",
    "    res = []\n",
    "    tmp = []\n",
    "    for b in block:\n",
    "        if b['pos'] == '名詞':\n",
    "            tmp.append(b['surface'])\n",
    "        elif len(tmp) >= 2:\n",
    "            res.append(''.join(tmp))\n",
    "            tmp = []\n",
    "        else:\n",
    "            tmp = []\n",
    "    return res"
   ]
  },
  {
   "cell_type": "code",
   "execution_count": 14,
   "metadata": {},
   "outputs": [
    {
     "name": "stdout",
     "output_type": "stream",
     "text": [
      "['人間中', '一番獰悪', '時妙', '一毛', 'その後猫']\n"
     ]
    }
   ],
   "source": [
    "with open(path, mode='rt', encoding='utf-8') as f:\n",
    "    blockList = f.read().split('EOS\\n')\n",
    "blockList = list(filter(lambda x: x != '', blockList))\n",
    "blockList = [parseMecab(block) for block in blockList]\n",
    "ans = flatten([extract(block) for block in blockList])\n",
    "print(ans[:5])"
   ]
  },
  {
   "cell_type": "code",
   "execution_count": null,
   "metadata": {},
   "outputs": [],
   "source": []
  },
  {
   "cell_type": "markdown",
   "metadata": {},
   "source": [
    "35. 単語の出現頻度  \n",
    "文章中に出現する単語とその出現頻度を求め，出現頻度の高い順に並べよ．"
   ]
  },
  {
   "cell_type": "code",
   "execution_count": 15,
   "metadata": {},
   "outputs": [],
   "source": [
    "def extract(block):\n",
    "    return [b['base'] + '_' + b['pos'] + '_' + b['pos1'] for b in block]"
   ]
  },
  {
   "cell_type": "code",
   "execution_count": 16,
   "metadata": {},
   "outputs": [
    {
     "name": "stdout",
     "output_type": "stream",
     "text": [
      "[('君_名詞_接尾', 641), ('ば_助詞_接続助詞', 584), ('その_連体詞_*', 576), ('一_名詞_数', 554), ('御_接頭詞_名詞接続', 552)]\n"
     ]
    }
   ],
   "source": [
    "from collections import defaultdict\n",
    "# https://qiita.com/xza/items/72a1b07fcf64d1f4bdb7\n",
    "\n",
    "with open(path, mode='rt', encoding='utf-8') as f:\n",
    "    blockList = f.read().split('EOS\\n')\n",
    "blockList = list(filter(lambda x: x != '', blockList))\n",
    "blockList = [parseMecab(block) for block in blockList]\n",
    "wordList = [extract(block) for block in blockList]\n",
    "\n",
    "d = defaultdict(int)\n",
    "for word in wordList:\n",
    "    for w in word:\n",
    "        d[w] += 1\n",
    "ans = sorted(d.items(), key=lambda x: x[1], reverse=True)\n",
    "print(ans[45:50])"
   ]
  },
  {
   "cell_type": "code",
   "execution_count": null,
   "metadata": {},
   "outputs": [],
   "source": []
  },
  {
   "cell_type": "markdown",
   "metadata": {},
   "source": [
    "36. 頻度上位10語  \n",
    "出現頻度が高い10語とその出現頻度をグラフ（例えば棒グラフなど）で表示せよ．"
   ]
  },
  {
   "cell_type": "code",
   "execution_count": 17,
   "metadata": {},
   "outputs": [],
   "source": [
    "from collections import defaultdict\n",
    "import matplotlib.pyplot as plt\n",
    "import japanize_matplotlib\n",
    "# https://qiita.com/uehara1414/items/6286590d2e1ffbf68f6c"
   ]
  },
  {
   "cell_type": "code",
   "execution_count": 18,
   "metadata": {},
   "outputs": [],
   "source": [
    "# extract 35と同じ"
   ]
  },
  {
   "cell_type": "code",
   "execution_count": 19,
   "metadata": {},
   "outputs": [
    {
     "data": {
      "image/png": "[encoded data removed]",
      "text/plain": [
       "<Figure size 576x576 with 1 Axes>"
      ]
     },
     "metadata": {
      "needs_background": "light"
     },
     "output_type": "display_data"
    }
   ],
   "source": [
    "with open(path, mode='rt', encoding='utf-8') as f:\n",
    "    blockList = f.read().split('EOS\\n')\n",
    "blockList = list(filter(lambda x: x != '', blockList))\n",
    "blockList = [parseMecab(block) for block in blockList]\n",
    "wordList = [extract(block) for block in blockList]\n",
    "d = defaultdict(int)\n",
    "for word in wordList:\n",
    "    for w in word:\n",
    "        d[w] += 1\n",
    "ans = sorted(d.items(), key=lambda x: x[1], reverse=True)[:10]\n",
    "labels = [a[0] for a in ans]\n",
    "values = [a[1] for a in ans]\n",
    "plt.figure(figsize=(8, 8))\n",
    "plt.barh(labels, values)\n",
    "plt.show()"
   ]
  },
  {
   "cell_type": "code",
   "execution_count": null,
   "metadata": {},
   "outputs": [],
   "source": []
  },
  {
   "cell_type": "markdown",
   "metadata": {},
   "source": [
    "37. 「猫」と共起頻度の高い上位10語  \n",
    "「猫」とよく共起する（共起頻度が高い）10語とその出現頻度をグラフ（例えば棒グラフなど）で表示せよ．"
   ]
  },
  {
   "cell_type": "code",
   "execution_count": 20,
   "metadata": {},
   "outputs": [],
   "source": [
    "def extract(block):\n",
    "    return [b['base'] for b in block]"
   ]
  },
  {
   "cell_type": "code",
   "execution_count": 21,
   "metadata": {},
   "outputs": [
    {
     "data": {
      "image/png": "[encoded data removed]",
      "text/plain": [
       "<Figure size 576x576 with 1 Axes>"
      ]
     },
     "metadata": {
      "needs_background": "light"
     },
     "output_type": "display_data"
    }
   ],
   "source": [
    "with open(path, mode='rt', encoding='utf-8') as f:\n",
    "    blockList = f.read().split('EOS\\n')\n",
    "blockList = list(filter(lambda x: x != '', blockList))\n",
    "blockList = [parseMecab(block) for block in blockList]\n",
    "wordList = [extract(block) for block in blockList]\n",
    "wordList = list(filter(lambda x: '猫' in x, wordList))\n",
    "d = defaultdict(int)\n",
    "for word in wordList:\n",
    "    for w in word:\n",
    "        if w != '猫':\n",
    "            d[w] += 1\n",
    "ans = sorted(d.items(), key=lambda x: x[1], reverse=True)[:10]\n",
    "labels = [a[0] for a in ans]\n",
    "values = [a[1] for a in ans]\n",
    "plt.figure(figsize=(8, 8))\n",
    "plt.barh(labels, values)\n",
    "plt.show()"
   ]
  },
  {
   "cell_type": "code",
   "execution_count": null,
   "metadata": {},
   "outputs": [],
   "source": []
  },
  {
   "cell_type": "markdown",
   "metadata": {},
   "source": [
    "38. ヒストグラム  \n",
    "単語の出現頻度のヒストグラム（横軸に出現頻度，縦軸に出現頻度をとる単語の種類数を棒グラフで表したもの）を描け．"
   ]
  },
  {
   "cell_type": "code",
   "execution_count": 22,
   "metadata": {},
   "outputs": [],
   "source": [
    "def extract(block):\n",
    "    return [b['base'] + '_' + b['pos'] + '_' + b['pos1'] for b in block]"
   ]
  },
  {
   "cell_type": "code",
   "execution_count": 23,
   "metadata": {},
   "outputs": [
    {
     "data": {
      "image/png": "[encoded data removed]",
      "text/plain": [
       "<Figure size 576x576 with 1 Axes>"
      ]
     },
     "metadata": {
      "needs_background": "light"
     },
     "output_type": "display_data"
    }
   ],
   "source": [
    "with open(path, mode='rt', encoding='utf-8') as f:\n",
    "    blockList = f.read().split('EOS\\n')\n",
    "blockList = list(filter(lambda x: x != '', blockList))\n",
    "blockList = [parseMecab(block) for block in blockList]\n",
    "wordList = [extract(block) for block in blockList]\n",
    "d = defaultdict(int)\n",
    "for word in wordList:\n",
    "    for w in word:\n",
    "        d[w] += 1\n",
    "ans = d.values()\n",
    "plt.figure(figsize=(8, 8))\n",
    "plt.hist(ans, bins=100)\n",
    "plt.show()"
   ]
  },
  {
   "cell_type": "code",
   "execution_count": null,
   "metadata": {},
   "outputs": [],
   "source": []
  },
  {
   "cell_type": "markdown",
   "metadata": {},
   "source": [
    "39. Zipfの法則  \n",
    "単語の出現頻度順位を横軸，その出現頻度を縦軸として，両対数グラフをプロットせよ．"
   ]
  },
  {
   "cell_type": "code",
   "execution_count": 24,
   "metadata": {},
   "outputs": [],
   "source": [
    "import math"
   ]
  },
  {
   "cell_type": "code",
   "execution_count": 25,
   "metadata": {},
   "outputs": [],
   "source": [
    "# extract 38と同じ"
   ]
  },
  {
   "cell_type": "code",
   "execution_count": 26,
   "metadata": {},
   "outputs": [
    {
     "data": {
      "image/png": "[encoded data removed]",
      "text/plain": [
       "<Figure size 576x576 with 1 Axes>"
      ]
     },
     "metadata": {
      "needs_background": "light"
     },
     "output_type": "display_data"
    }
   ],
   "source": [
    "with open(path, mode='rt', encoding='utf-8') as f:\n",
    "    blockList = f.read().split('EOS\\n')\n",
    "blockList = list(filter(lambda x: x != '', blockList))\n",
    "blockList = [parseMecab(block) for block in blockList]\n",
    "wordList = [extract(block) for block in blockList]\n",
    "d = defaultdict(int)\n",
    "for word in wordList:\n",
    "    for w in word:\n",
    "        d[w] += 1\n",
    "ans = sorted(d.items(), key=lambda x: x[1], reverse=True)# 頻度で並び替え\n",
    "ranks = [math.log(r + 1) for r in range(len(ans))]\n",
    "values = [math.log(a[1]) for a in ans]\n",
    "plt.figure(figsize=(8, 8))\n",
    "plt.scatter(ranks, values)\n",
    "plt.show()"
   ]
  },
  {
   "cell_type": "code",
   "execution_count": 27,
   "metadata": {},
   "outputs": [],
   "source": [
    "# Zipfの法則\n",
    "# https://mjin.doshisha.ac.jp/R/60/60.html"
   ]
  }
 ],
 "metadata": {
  "kernelspec": {
   "display_name": "Python 3",
   "language": "python",
   "name": "python3"
  },
  "language_info": {
   "codemirror_mode": {
    "name": "ipython",
    "version": 3
   },
   "file_extension": ".py",
   "mimetype": "text/x-python",
   "name": "python",
   "nbconvert_exporter": "python",
   "pygments_lexer": "ipython3",
   "version": "3.8.2"
  }
 },
 "nbformat": 4,
 "nbformat_minor": 4
}
